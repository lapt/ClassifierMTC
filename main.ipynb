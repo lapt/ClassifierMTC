{
 "cells": [
  {
   "cell_type": "markdown",
   "metadata": {},
   "source": [
    "# Clasificador de priorización"
   ]
  },
  {
   "cell_type": "markdown",
   "metadata": {},
   "source": [
    "## Objetivo:\n",
    "\n",
    "El clasificador tiene como objetivo predicir si un documento es de prioridad alta o no."
   ]
  },
  {
   "cell_type": "markdown",
   "metadata": {},
   "source": [
    "### 1.- Creamos un ranking de algoritmos "
   ]
  },
  {
   "cell_type": "markdown",
   "metadata": {},
   "source": [
    "#### Definimos las rutas"
   ]
  },
  {
   "cell_type": "code",
   "execution_count": null,
   "metadata": {},
   "outputs": [],
   "source": [
    "# Ruta de la data entrenamiento\n",
    "path_data = \"training_data/TRAIN_INTER.tsv\" \n",
    "# Ruta donde guardaremos los resultados de la evaluacion de nuestros modelos\n",
    "path_result = \"result/result_final.csv\" \n",
    "# Ruta donde guarderemos el clasificador con mejor evaluación\n",
    "path_result_cls_transport = \"results_models/cls_prioridad.joblib\""
   ]
  },
  {
   "cell_type": "markdown",
   "metadata": {},
   "source": [
    "#### Creamos el ranking "
   ]
  },
  {
   "cell_type": "code",
   "execution_count": null,
   "metadata": {},
   "outputs": [],
   "source": [
    "# Pasamos como datos de entradas las rutas definidas a anteriormente y el nro de datos (filas) a considerar.\n",
    "# revisar las rutas para ver los resultados\n",
    "\n",
    "max_classification_random(path_data, path_result, path_result_cls_transport, 1000)\n",
    "    print(\"--- %s seconds ---\" % (time.time() - start_time))\n",
    "    print(\"Finish\")"
   ]
  },
  {
   "cell_type": "markdown",
   "metadata": {},
   "source": [
    "### 2.- Evaluamos los 4 mejores algoritmos con sus respectivos parametros"
   ]
  },
  {
   "cell_type": "markdown",
   "metadata": {},
   "source": [
    "#### Creamos un metodo llamado \"Test_model\" que se encargar de entrenar nuestros modelos e imprimir la matriz de confusion."
   ]
  },
  {
   "cell_type": "code",
   "execution_count": null,
   "metadata": {},
   "outputs": [],
   "source": [
    "def test_model(model, X_train, y_train, X_test, y_test, ngram_range, use_idf):\n",
    "    count_vectorizer = CountVectorizer(\n",
    "        analyzer='word',\n",
    "        tokenizer=tokenize,\n",
    "        lowercase=True,\n",
    "        stop_words=spanish_stopwords,\n",
    "        decode_error='ignore',\n",
    "        ngram_range=ngram_range\n",
    "    )\n",
    "\n",
    "    text_cls = Pipeline([\n",
    "        ('vect', count_vectorizer),  # strings to token integer counts\n",
    "        ('tfidf', TfidfTransformer(use_idf=use_idf)),  # integer counts to weighted TF-IDF scores\n",
    "        ('cls', model)  # train on TF-IDF vectors w/ Naive Bayes classifier\n",
    "    ])\n",
    "\n",
    "    text_cls.fit(X_train, y_train)\n",
    "    predicted = text_cls.predict(X_test)\n",
    "    result = metrics.classification_report(y_test, predicted)\n",
    "    print(result)\n",
    "    print(metrics.confusion_matrix(y_test, predicted))\n",
    "    return text_cls"
   ]
  },
  {
   "cell_type": "markdown",
   "metadata": {},
   "source": [
    "#### Definimos nuestros modelos que deseamos entrenar, visualizamos resultados  y guardamos los modelos."
   ]
  },
  {
   "cell_type": "code",
   "execution_count": null,
   "metadata": {},
   "outputs": [],
   "source": [
    "subject_corpus_train = create_subject_corpus(path_corpus_train)\n",
    "\n",
    "    msg_train = subject_corpus_train['subject']\n",
    "    label_train = subject_corpus_train['priority']\n",
    "    subject_corpus_test = create_subject_corpus(path_corpus_test)\n",
    "    msg_test = subject_corpus_test['subject']\n",
    "    label_test = subject_corpus_test['priority']\n",
    "    \n",
    "    # MODELO 01\n",
    "    print(\"RandonForest\")\n",
    "    model = RandomForestClassifier(criterion='gini', max_features='log2', n_estimators=150)\n",
    "    model_predict = test_model(model, msg_train, label_train, msg_test, label_test, (1, 1), False)\n",
    "    joblib.dump(model_predict, \"results_models_test/RandonForest.joblib\")\n",
    "    \n",
    "    # MODELO 02\n",
    "    print(\"LinerSVC\")\n",
    "    model = svm.LinearSVC(C=2, loss='squared_hinge')\n",
    "    model_predict = test_model(model, msg_train, label_train, msg_test, label_test, (1, 2), True)\n",
    "    joblib.dump(model_predict, \"results_models_test/LinerSVC.joblib\")\n",
    "    \n",
    "    # MODELO 03\n",
    "    print(\"MultinomialNB\")\n",
    "    model = MultinomialNB(alpha=0.01)\n",
    "    model_predict = test_model(model, msg_train, label_train, msg_test, label_test, (1, 2), False)\n",
    "    joblib.dump(model_predict, \"results_models_test/MultinomialNB.joblib\")\n",
    "    \n",
    "    # MODELO 04\n",
    "    print(\"SVC\")\n",
    "    model = svm.SVC(C=100, kernel='rbf', probability=True)\n",
    "    model_predict = test_model(model, msg_train, label_train, msg_test, label_test, (1, 2), False)\n",
    "    joblib.dump(model_predict, \"results_models_test/SVC.joblib\")"
   ]
  }
 ],
 "metadata": {
  "kernelspec": {
   "display_name": "Python 3",
   "language": "python",
   "name": "python3"
  },
  "language_info": {
   "codemirror_mode": {
    "name": "ipython",
    "version": 3
   },
   "file_extension": ".py",
   "mimetype": "text/x-python",
   "name": "python",
   "nbconvert_exporter": "python",
   "pygments_lexer": "ipython3",
   "version": "3.7.4"
  }
 },
 "nbformat": 4,
 "nbformat_minor": 2
}
